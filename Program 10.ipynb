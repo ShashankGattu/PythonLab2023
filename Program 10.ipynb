{
 "cells": [
  {
   "cell_type": "markdown",
   "id": "7b5defee",
   "metadata": {},
   "source": [
    "## Program 10A"
   ]
  },
  {
   "cell_type": "code",
   "execution_count": 6,
   "id": "47b3b38a",
   "metadata": {},
   "outputs": [
    {
     "name": "stdout",
     "output_type": "stream",
     "text": [
      "Enter page number you want combine from multiple documents2\n",
      "pdf created\n"
     ]
    }
   ],
   "source": [
    "from PyPDF2 import PdfWriter, PdfReader\n",
    "num = int(input(\"Enter page number you want combine from multiple documents\"))\n",
    "pdf1 = open('DAA.pdf', 'rb')\n",
    "pdf2 = open('Python.pdf', 'rb')\n",
    "pdf_writer = PdfWriter()\n",
    "pdf1_reader = PdfReader(pdf1)\n",
    "page = pdf1_reader.pages[num - 1]\n",
    "pdf_writer.add_page(page)\n",
    "pdf2_reader = PdfReader(pdf2)\n",
    "page = pdf2_reader.pages[num - 1]\n",
    "pdf_writer.add_page(page)\n",
    "with open('output.pdf', 'wb') as output:\n",
    "    pdf_writer.write(output)\n",
    "    print('pdf created')"
   ]
  },
  {
   "cell_type": "markdown",
   "id": "b6ee4520",
   "metadata": {},
   "source": [
    "## Program 10B"
   ]
  },
  {
   "cell_type": "code",
   "execution_count": 8,
   "id": "77a66319",
   "metadata": {},
   "outputs": [
    {
     "name": "stdout",
     "output_type": "stream",
     "text": [
      "lon\n",
      "lat\n"
     ]
    }
   ],
   "source": [
    "import json\n",
    " \n",
    "# Opening JSON file\n",
    "f = open('data.json')\n",
    " \n",
    "# returns JSON object as\n",
    "# a dictionary\n",
    "data = json.load(f)\n",
    " \n",
    "# Iterating through the json\n",
    "# list\n",
    "for i in data['coord']:\n",
    "    print(i)\n",
    " \n",
    "# Closing file\n",
    "f.close()"
   ]
  },
  {
   "cell_type": "code",
   "execution_count": null,
   "id": "b92fde19",
   "metadata": {},
   "outputs": [],
   "source": []
  }
 ],
 "metadata": {
  "kernelspec": {
   "display_name": "Python 3 (ipykernel)",
   "language": "python",
   "name": "python3"
  },
  "language_info": {
   "codemirror_mode": {
    "name": "ipython",
    "version": 3
   },
   "file_extension": ".py",
   "mimetype": "text/x-python",
   "name": "python",
   "nbconvert_exporter": "python",
   "pygments_lexer": "ipython3",
   "version": "3.10.0"
  }
 },
 "nbformat": 4,
 "nbformat_minor": 5
}
