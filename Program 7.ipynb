{
 "cells": [
  {
   "cell_type": "markdown",
   "id": "dba47710",
   "metadata": {},
   "source": [
    "## Program 7A"
   ]
  },
  {
   "cell_type": "code",
   "execution_count": 2,
   "id": "be06ed42",
   "metadata": {},
   "outputs": [
    {
     "name": "stdout",
     "output_type": "stream",
     "text": [
      "The area of the Circle is 78.53981633974483 units\n",
      "The area of the Rectangle is 20 units\n",
      "The area of the Triangle is 6.0 units\n"
     ]
    }
   ],
   "source": [
    "import math\n",
    "class Shape:\n",
    "    def __init__(self):\n",
    "        self.area = 0\n",
    "        self.name = \"\"\n",
    "\n",
    "    def showArea(self):\n",
    "        print(\"The area of the\", self.name, \"is\", self.area, \"units\")\n",
    "\n",
    "class Circle(Shape):\n",
    "    def __init__(self,radius):\n",
    "        self.area = 0\n",
    "        self.name = \"Circle\"\n",
    "        self.radius = radius\n",
    "\n",
    "    def calcArea(self):\n",
    "        self.area = math.pi * self.radius * self.radius\n",
    "\n",
    "class Rectangle(Shape):\n",
    "    def __init__(self,length,breadth):\n",
    "        self.area = 0\n",
    "        self.name = \"Rectangle\"\n",
    "        self.length = length\n",
    "        self.breadth = breadth\n",
    "\n",
    "    def calcArea(self):\n",
    "        self.area = self.length * self.breadth\n",
    "class Triangle(Shape):\n",
    "    def __init__(self,base,height):\n",
    "        self.area = 0\n",
    "        self.name = \"Triangle\"\n",
    "        self.base = base\n",
    "        self.height = height\n",
    "\n",
    "    def calcArea(self):\n",
    "        self.area = self.base * self.height / 2\n",
    "c1 = Circle(5)\n",
    "c1.calcArea()\n",
    "c1.showArea()\n",
    "r1 = Rectangle(5, 4)\n",
    "r1.calcArea()\n",
    "r1.showArea()\n",
    "t1 = Triangle(3, 4)\n",
    "t1.calcArea()\n",
    "t1.showArea()"
   ]
  },
  {
   "cell_type": "markdown",
   "id": "c6bde5f6",
   "metadata": {},
   "source": [
    "## Program 7B"
   ]
  },
  {
   "cell_type": "code",
   "execution_count": 6,
   "id": "99737df8",
   "metadata": {},
   "outputs": [
    {
     "name": "stdout",
     "output_type": "stream",
     "text": [
      "Enter Employee name : xyz\n",
      "Enter Employee ID : 123\n",
      "Enter Employee Dept : idk\n",
      "Enter Employee Salary : 420\n",
      "Employee Details\n",
      "Name :  xyz\n",
      "ID :  123\n",
      "Dept :  idk\n",
      "Salary :  420\n",
      "Enter new Salary : 666\n",
      "Updated Salary 666\n"
     ]
    }
   ],
   "source": [
    "class Employee:\n",
    "    def __init__(self):\n",
    "        self.name = \"\"\n",
    "        self.empId = \"\"\n",
    "        self.dept = \"\"\n",
    "        self.salary = 0\n",
    "\n",
    "    def getEmpDetails(self):\n",
    "        self.name = input(\"Enter Employee name : \")\n",
    "        self.empId = input(\"Enter Employee ID : \")\n",
    "        self.dept = input(\"Enter Employee Dept : \")\n",
    "        self.salary = int(input(\"Enter Employee Salary : \"))\n",
    "\n",
    "    def showEmpDetails(self):\n",
    "        print(\"Employee Details\")\n",
    "        print(\"Name : \", self.name)\n",
    "        print(\"ID : \", self.empId)\n",
    "        print(\"Dept : \", self.dept)\n",
    "        print(\"Salary : \", self.salary)\n",
    "\n",
    "    def updtSalary(self):\n",
    "        self.salary = int(input(\"Enter new Salary : \"))\n",
    "        print(\"Updated Salary\", self.salary)\n",
    "\n",
    "e1 = Employee()\n",
    "e1.getEmpDetails()\n",
    "e1.showEmpDetails()\n",
    "e1.updtSalary()"
   ]
  }
 ],
 "metadata": {
  "kernelspec": {
   "display_name": "Python 3 (ipykernel)",
   "language": "python",
   "name": "python3"
  },
  "language_info": {
   "codemirror_mode": {
    "name": "ipython",
    "version": 3
   },
   "file_extension": ".py",
   "mimetype": "text/x-python",
   "name": "python",
   "nbconvert_exporter": "python",
   "pygments_lexer": "ipython3",
   "version": "3.10.0"
  }
 },
 "nbformat": 4,
 "nbformat_minor": 5
}
