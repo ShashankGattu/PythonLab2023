{
 "cells": [
  {
   "cell_type": "markdown",
   "id": "712e278d",
   "metadata": {},
   "source": [
    "## 6A"
   ]
  },
  {
   "cell_type": "code",
   "execution_count": 4,
   "id": "38f293c7",
   "metadata": {},
   "outputs": [
    {
     "name": "stdout",
     "output_type": "stream",
     "text": [
      "Enter the filename : test.txt\n",
      "1 : 1234\n",
      "\n",
      "2 : 1\n",
      "\n",
      "3 : 1\n",
      "\n",
      "4 : 1\n",
      "Enter a word : this\n",
      "The word this appears 0 times in the file\n"
     ]
    }
   ],
   "source": [
    "import os.path\n",
    "import sys\n",
    "fname = input(\"Enter the filename : \")\n",
    "if not os.path.isfile(fname):\n",
    "    print(\"File\", fname, \"doesn't exists\")\n",
    "    sys.exit(0)\n",
    "infile = open(fname, \"r\")\n",
    "lineList = infile.readlines()\n",
    "for i in range(4):\n",
    "     print(i+1, \":\", lineList[i])\n",
    "\n",
    "word = input(\"Enter a word : \")\n",
    "cnt = 0\n",
    "for line in lineList:\n",
    "    cnt += line.count(word)\n",
    "print(\"The word\", word, \"appears\", cnt, \"times in the file\")"
   ]
  },
  {
   "cell_type": "markdown",
   "id": "00143fdd",
   "metadata": {},
   "source": [
    "## 6B"
   ]
  },
  {
   "cell_type": "code",
   "execution_count": 7,
   "id": "257ab45d",
   "metadata": {},
   "outputs": [
    {
     "name": "stdout",
     "output_type": "stream",
     "text": [
      "Enter Directory name that you want to backup : Zipdemo\n",
      "Archive myZip.zip created successfully\n"
     ]
    }
   ],
   "source": [
    "import os\n",
    "import sys\n",
    "import pathlib\n",
    "import zipfile\n",
    "dirName = input(\"Enter Directory name that you want to backup : \")\n",
    "if not os.path.isdir(dirName):\n",
    "    print(\"Directory\", dirName, \"doesn't exists\")\n",
    "    sys.exit(0)\n",
    "\n",
    "curDirectory = pathlib.Path(dirName)\n",
    "\n",
    "with zipfile.ZipFile(\"myZip.zip\", mode=\"w\") as archive:\n",
    "    for file_path in curDirectory.rglob(\"*\"):\n",
    "        archive.write(file_path, arcname=file_path.relative_to(curDirectory))\n",
    "\n",
    "if os.path.isfile(\"myZip.zip\"):\n",
    "    print(\"Archive\", \"myZip.zip\", \"created successfully\")\n",
    "else:\n",
    "    print(\"Error in creating zip archive\")"
   ]
  }
 ],
 "metadata": {
  "kernelspec": {
   "display_name": "Python 3 (ipykernel)",
   "language": "python",
   "name": "python3"
  },
  "language_info": {
   "codemirror_mode": {
    "name": "ipython",
    "version": 3
   },
   "file_extension": ".py",
   "mimetype": "text/x-python",
   "name": "python",
   "nbconvert_exporter": "python",
   "pygments_lexer": "ipython3",
   "version": "3.10.0"
  }
 },
 "nbformat": 4,
 "nbformat_minor": 5
}
