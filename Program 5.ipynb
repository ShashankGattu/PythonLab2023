{
 "cells": [
  {
   "cell_type": "markdown",
   "id": "72fdf839",
   "metadata": {},
   "source": [
    "### Program 5A"
   ]
  },
  {
   "cell_type": "code",
   "execution_count": null,
   "id": "b032f29b",
   "metadata": {},
   "outputs": [],
   "source": [
    "import re\n",
    "def isphonenumber(numStr):\n",
    " if len(numStr) != 12:\n",
    " return False\n",
    " for i in range(len(numStr)):\n",
    " if i==3 or i==7:\n",
    " if numStr[i] != \"-\":\n",
    " return False\n",
    " else:\n",
    " if numStr[i].isdigit() == False:\n",
    " return False\n",
    " return True\n",
    "def chkphonenumber(numStr):\n",
    " ph_no_pattern = re.compile(r'^\\d{3}-\\d{3}-\\d{4}$')\n",
    " if ph_no_pattern.match(numStr):\n",
    " return True\n",
    " else:\n",
    " return False\n",
    "ph_num = input(\"Enter a phone number : \")\n",
    "print(\"Without using Regular Expression\")\n",
    "if isphonenumber(ph_num):\n",
    " print(\"Valid phone number\")\n",
    "else:\n",
    " print(\"Invalid phone number\")\n",
    "print(\"Using Regular Expression\")\n",
    "if chkphonenumber(ph_num):\n",
    " print(\"Valid phone number\")\n",
    "else:\n",
    " print(\"Invalid phone number\")"
   ]
  },
  {
   "cell_type": "markdown",
   "id": "6ce7dd8c",
   "metadata": {},
   "source": [
    "### Program 5B"
   ]
  },
  {
   "cell_type": "code",
   "execution_count": null,
   "id": "ae3346a0",
   "metadata": {},
   "outputs": [],
   "source": [
    "import re\n",
    "# Define the regular expression for phone numbers\n",
    "phone_regex = re.compile(r'\\+\\d{12}')\n",
    "email_regex = re.compile(r'[A-Za-z0-9._]+@[A-Za-z0-9]+\\.[A-Z|a-z]{2,}')\n",
    "# Open the file for reading\n",
    "with open('example.txt', 'r') as f:\n",
    " # Loop through each line in the file\n",
    " for line in f:\n",
    " # Search for phone numbers in the line\n",
    " matches = phone_regex.findall(line)\n",
    " # Print any matches found\n",
    " for match in matches:\n",
    "         print(match)\n",
    "matches = email_regex.findall(line)\n",
    " # Print any matches found\n",
    "     for match in matches:\n",
    "             print(match)"
   ]
  }
 ],
 "metadata": {
  "kernelspec": {
   "display_name": "Python 3 (ipykernel)",
   "language": "python",
   "name": "python3"
  },
  "language_info": {
   "codemirror_mode": {
    "name": "ipython",
    "version": 3
   },
   "file_extension": ".py",
   "mimetype": "text/x-python",
   "name": "python",
   "nbconvert_exporter": "python",
   "pygments_lexer": "ipython3",
   "version": "3.10.0"
  }
 },
 "nbformat": 4,
 "nbformat_minor": 5
}
