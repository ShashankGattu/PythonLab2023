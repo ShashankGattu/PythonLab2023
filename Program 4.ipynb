{
 "cells": [
  {
   "cell_type": "markdown",
   "id": "1d31f3f4",
   "metadata": {},
   "source": [
    "### Program 4A"
   ]
  },
  {
   "cell_type": "code",
   "execution_count": null,
   "id": "3c87458d",
   "metadata": {},
   "outputs": [],
   "source": [
    "def mergeSort(arr):\n",
    "        if len(arr) > 1:\n",
    "            mid = len(arr)//2\n",
    "            sub_array1 = arr[:mid]\n",
    "            sub_array2 = arr[mid:]\n",
    "            mergeSort(sub_array1)\n",
    "            mergeSort(sub_array2)\n",
    "    \n",
    "            i = j = k = 0\n",
    "            while i < len(sub_array1) and j < len(sub_array2):\n",
    "                if sub_array1[i] < sub_array2[j]:\n",
    "                    arr[k] = sub_array1[i]\n",
    "                    i += 1\n",
    "                else:\n",
    "                    arr[k] = sub_array2[j]\n",
    "                    j += 1\n",
    "                k += 1\n",
    "            while i < len(sub_array1):\n",
    "                arr[k] = sub_array1[i]\n",
    "                i += 1\n",
    "                k += 1\n",
    " \n",
    "            while j < len(sub_array2):\n",
    "                arr[k] = sub_array2[j]\n",
    "                j += 1\n",
    "                k += 1\n",
    "                \n",
    "def InsertionSort(a):\n",
    "\n",
    "    for i in range(1, len(a)):\n",
    "  \n",
    "        temp = a[i]\n",
    "\n",
    "        j = i-1\n",
    "        while j >=0 and temp < a[j] :\n",
    "                a[j+1] = a[j]\n",
    "                j -= 1\n",
    "        a[j+1] = temp\n",
    " \n",
    "arr = [10, 9, 2, 4, 6, 13]\n",
    "mergeSort(arr)\n",
    "print(arr)\n",
    "InsertionSort(arr)\n",
    "print(arr)"
   ]
  },
  {
   "cell_type": "markdown",
   "id": "9c91718e",
   "metadata": {},
   "source": [
    "### Program 4B"
   ]
  },
  {
   "cell_type": "code",
   "execution_count": null,
   "id": "91486f4d",
   "metadata": {},
   "outputs": [],
   "source": [
    "def roman2Dec(romStr):\n",
    "roman_dict ={'I': 1, 'V': 5, 'X': 10, 'L': 50, 'C': 100, 'D': 500, 'M': 1000}\n",
    " # Analyze string backwards\n",
    "romanBack = list(romStr)[::-1]\n",
    " value = 0\n",
    " # To keep track of order\n",
    " rightVal = roman_dict[romanBack[0]]\n",
    "for numeral in romanBack:\n",
    "     leftVal = roman_dict[numeral]\n",
    " # Check for subtraction\n",
    " if leftVal < rightVal:\n",
    "    value -= leftVal\n",
    "else:\n",
    "     value += leftVal\n",
    "    rightVal = leftVal\n",
    "     return value\n",
    "romanStr = input(\"Enter a Roman Number : \")\n",
    "print(roman2Dec(romanStr))"
   ]
  }
 ],
 "metadata": {
  "kernelspec": {
   "display_name": "Python 3 (ipykernel)",
   "language": "python",
   "name": "python3"
  },
  "language_info": {
   "codemirror_mode": {
    "name": "ipython",
    "version": 3
   },
   "file_extension": ".py",
   "mimetype": "text/x-python",
   "name": "python",
   "nbconvert_exporter": "python",
   "pygments_lexer": "ipython3",
   "version": "3.10.0"
  }
 },
 "nbformat": 4,
 "nbformat_minor": 5
}
